{
  "nbformat": 4,
  "nbformat_minor": 0,
  "metadata": {
    "colab": {
      "name": "LogisticRegression with pytorch.ipynb",
      "provenance": [],
      "authorship_tag": "ABX9TyPy3wPUb+hVkvxXEcus4u34",
      "include_colab_link": true
    },
    "kernelspec": {
      "name": "python3",
      "display_name": "Python 3"
    }
  },
  "cells": [
    {
      "cell_type": "markdown",
      "metadata": {
        "id": "view-in-github",
        "colab_type": "text"
      },
      "source": [
        "<a href=\"https://colab.research.google.com/github/syibrahima31/Project-with-torch/blob/main/LogisticRegression_with_pytorch.ipynb\" target=\"_parent\"><img src=\"https://colab.research.google.com/assets/colab-badge.svg\" alt=\"Open In Colab\"/></a>"
      ]
    },
    {
      "cell_type": "code",
      "metadata": {
        "id": "9HwK_6DegJG1"
      },
      "source": [
        "import numpy as np \r\n",
        "import matplotlib.pyplot as plt\r\n",
        "from torch import nn\r\n",
        "from sklearn.datasets import make_classification\r\n",
        "from sklearn.model_selection import train_test_split\r\n",
        "import torch \r\n",
        "import torch.optim as optim \r\n"
      ],
      "execution_count": 5,
      "outputs": []
    },
    {
      "cell_type": "markdown",
      "metadata": {
        "id": "0yh6hRZHBQgY"
      },
      "source": [
        "## CREATE  A ARTIFICIAL DATASET\r\n"
      ]
    },
    {
      "cell_type": "code",
      "metadata": {
        "id": "xXuit3osgOgd"
      },
      "source": [
        "X, y = make_classification(n_samples=1000, n_classes=2, n_features=4)\r\n",
        "X_train, X_test, y_train, y_test = train_test_split(X, y, test_size=0.33, random_state=1)\r\n",
        "\r\n",
        "# convert the numpy array to tensor \r\n",
        "X_train = torch.from_numpy(X_train.astype(np.float32))\r\n",
        "X_test = torch.from_numpy(X_test.astype(np.float32))\r\n",
        "y_train = torch.from_numpy(y_train.astype(np.float32)).view(-1,1)\r\n",
        "y_test = torch.from_numpy(y_test.astype(np.float32)).view(-1,1)\r\n",
        "\r\n",
        "n_samaple , n_features = X_train.shape "
      ],
      "execution_count": 6,
      "outputs": []
    },
    {
      "cell_type": "markdown",
      "metadata": {
        "id": "GLEhCbf0FQvc"
      },
      "source": [
        "## CREATE  THE MODLE "
      ]
    },
    {
      "cell_type": "code",
      "metadata": {
        "id": "ACl7K2m5hAAR"
      },
      "source": [
        "class LogisticRegression(nn.Module):\r\n",
        "  def __init__(self, in_features, out_features):\r\n",
        "    super(LogisticRegression, self).__init__()\r\n",
        "    self.layer_1 = nn.Linear(in_features, out_features)\r\n",
        "\r\n",
        "\r\n",
        "\r\n",
        "  def forward(self, x):\r\n",
        "    x = self.layer_1(x)\r\n",
        "    x = torch.sigmoid(x)\r\n",
        "    return x \r\n",
        "   \r\n"
      ],
      "execution_count": 7,
      "outputs": []
    },
    {
      "cell_type": "code",
      "metadata": {
        "id": "SBx5JTAWRQln"
      },
      "source": [
        "model = LogisticRegression(n_features, 1)"
      ],
      "execution_count": 8,
      "outputs": []
    },
    {
      "cell_type": "markdown",
      "metadata": {
        "id": "Pk8iT_QaNiEP"
      },
      "source": [
        "## LOSS FUNCTION AND OPTIMIZER  "
      ]
    },
    {
      "cell_type": "code",
      "metadata": {
        "id": "uvN0e8DqhQLo"
      },
      "source": [
        "learning_rate = 0.01\r\n",
        "criterion  = nn.BCELoss()\r\n",
        "optimizer = optim.SGD(model.parameters(), lr = learning_rate)"
      ],
      "execution_count": 9,
      "outputs": []
    },
    {
      "cell_type": "markdown",
      "metadata": {
        "id": "MgmMif1OOi4F"
      },
      "source": [
        "## TRIANNING THE MODEL"
      ]
    },
    {
      "cell_type": "code",
      "metadata": {
        "colab": {
          "base_uri": "https://localhost:8080/"
        },
        "id": "6yxkodIqfQ-r",
        "outputId": "ed5b995d-89c7-4830-8005-c39a22d65d03"
      },
      "source": [
        "n_iters = 100\r\n",
        "\r\n",
        "Loss = []\r\n",
        "\r\n",
        "for epoch in range(n_iters):\r\n",
        "  # forward pass \r\n",
        "  prediction = model(X_train)\r\n",
        "\r\n",
        "  # computre the loss \r\n",
        "\r\n",
        "  loss = criterion(prediction , y_train)\r\n",
        "\r\n",
        "  # compute the gradient \r\n",
        "  loss.backward()\r\n",
        "\r\n",
        "  # update the weights \r\n",
        "\r\n",
        "  optimizer.step()\r\n",
        "\r\n",
        "  # zero gradient \r\n",
        "\r\n",
        "  optimizer.zero_grad()\r\n",
        "  \r\n",
        "  Loss.append(loss)\r\n",
        "  if epoch % 10 == 0  : \r\n",
        "    w, b = model.parameters()\r\n",
        "    print(f\"{epoch} and loss={loss}\")\r\n",
        "\r\n",
        "\r\n"
      ],
      "execution_count": 13,
      "outputs": [
        {
          "output_type": "stream",
          "text": [
            "0 and loss=0.32429200410842896\n",
            "10 and loss=0.32082855701446533\n",
            "20 and loss=0.3176257908344269\n",
            "30 and loss=0.3146577775478363\n",
            "40 and loss=0.3119019567966461\n",
            "50 and loss=0.3093383312225342\n",
            "60 and loss=0.30694928765296936\n",
            "70 and loss=0.30471912026405334\n",
            "80 and loss=0.30263403058052063\n",
            "90 and loss=0.30068162083625793\n"
          ],
          "name": "stdout"
        }
      ]
    },
    {
      "cell_type": "code",
      "metadata": {
        "colab": {
          "base_uri": "https://localhost:8080/"
        },
        "id": "KMIJh2-qRDeZ",
        "outputId": "d23e161f-28a9-4662-e4d0-b0c7c9fb564b"
      },
      "source": [
        "with torch.no_grad():\r\n",
        "  pred_probs = model(X_test)\r\n",
        "  pred_labels = pred_probs.round()\r\n",
        "  acc = (pred_labels.eq(y_test).sum()) / X_test.shape[0]\r\n",
        "  print(acc.item())"
      ],
      "execution_count": 21,
      "outputs": [
        {
          "output_type": "stream",
          "text": [
            "0.8818181753158569\n"
          ],
          "name": "stdout"
        }
      ]
    }
  ]
}